{
 "cells": [
  {
   "cell_type": "code",
   "execution_count": 1,
   "metadata": {
    "collapsed": false
   },
   "outputs": [],
   "source": [
    "\n",
    "import numpy as np\n",
    "from collections import Counter\n",
    "from operator import itemgetter\n",
    "import matplotlib.pyplot as plt\n",
    "from copy import deepcopy\n",
    "\n",
    "from sklearn.feature_extraction.text import TfidfVectorizer\n",
    "from sklearn.metrics.pairwise import cosine_similarity\n",
    "from sklearn.model_selection import train_test_split\n",
    "from pyjarowinkler import distance\n",
    "from gensim.summarization import bm25\n",
    "import nltk\n",
    "import numpy as np\n",
    "import random\n",
    "import pickle\n",
    "import tensorflow \n",
    "import tensorflow as tf\n",
    "import scipy\n",
    "import sklearn\n",
    "import tqdm"
   ]
  },
  {
   "cell_type": "code",
   "execution_count": 2,
   "metadata": {
    "collapsed": false
   },
   "outputs": [
    {
     "name": "stderr",
     "output_type": "stream",
     "text": [
      "Using TensorFlow backend.\n"
     ]
    }
   ],
   "source": [
    "from keras.preprocessing.text import Tokenizer\n",
    "from keras.preprocessing.sequence import pad_sequences\n",
    "from keras.callbacks import ModelCheckpoint\n",
    "#from keras.preprocessing import sequence\n",
    "from keras.models import Sequential,Model\n",
    "from keras.layers import Dense, Dropout, Activation,concatenate,Embedding,LSTM,Conv1D,MaxPooling1D,Add,Reshape,Lambda\n",
    "from keras.layers import Flatten,Input,Bidirectional,LSTMCell,TimeDistributed\n",
    "from keras.utils import to_categorical,plot_model\n",
    "from keras.utils.vis_utils import model_to_dot\t\n",
    "from IPython.display import SVG\n",
    "from tensorflow import set_random_seed\n",
    "\n",
    "T=4\n",
    "d=50\n",
    "batch_size=3\n",
    "n_a=2\n",
    "np.random.seed(1)\n",
    "set_random_seed(1)\n",
    "\n",
    "x=np.random.rand(batch_size,T,d)\n"
   ]
  },
  {
   "cell_type": "markdown",
   "metadata": {},
   "source": [
    "## case 1 : sequence length =T , input 1"
   ]
  },
  {
   "cell_type": "code",
   "execution_count": 3,
   "metadata": {
    "collapsed": false
   },
   "outputs": [
    {
     "name": "stdout",
     "output_type": "stream",
     "text": [
      "_________________________________________________________________\n",
      "Layer (type)                 Output Shape              Param #   \n",
      "=================================================================\n",
      "input_1 (InputLayer)         (None, 4, 50)             0         \n",
      "_________________________________________________________________\n",
      "lstm_1 (LSTM)                (None, 4, 2)              424       \n",
      "_________________________________________________________________\n",
      "lstm_2 (LSTM)                (None, 4, 2)              40        \n",
      "=================================================================\n",
      "Total params: 464\n",
      "Trainable params: 464\n",
      "Non-trainable params: 0\n",
      "_________________________________________________________________\n"
     ]
    },
    {
     "data": {
      "text/plain": [
       "array([[[0.03153282, 0.02195749],\n",
       "        [0.06709555, 0.04790732],\n",
       "        [0.10086724, 0.06961383],\n",
       "        [0.11506429, 0.08126175]],\n",
       "\n",
       "       [[0.03432832, 0.0336638 ],\n",
       "        [0.06833646, 0.05452058],\n",
       "        [0.11184714, 0.07736374],\n",
       "        [0.13139614, 0.08437069]],\n",
       "\n",
       "       [[0.02254318, 0.02476908],\n",
       "        [0.06191476, 0.05725384],\n",
       "        [0.09719618, 0.07639652],\n",
       "        [0.12731677, 0.08975205]]], dtype=float32)"
      ]
     },
     "execution_count": 3,
     "metadata": {},
     "output_type": "execute_result"
    }
   ],
   "source": [
    "np.random.seed(1)\n",
    "#set_random_seed(1)\n",
    "\n",
    "i=Input(shape=(T,d))\n",
    "lstm1=LSTM(n_a,return_state=False,return_sequences=True)(i)\n",
    "lstm1=LSTM(n_a,return_state=False,return_sequences=True)(lstm1)\n",
    "model1=Model(inputs=i,outputs=lstm1)\n",
    "model1.summary()\n",
    "model1.predict(x)"
   ]
  },
  {
   "cell_type": "code",
   "execution_count": 4,
   "metadata": {
    "collapsed": false
   },
   "outputs": [
    {
     "data": {
      "image/svg+xml": [
       "<svg height=\"191pt\" viewBox=\"0.00 0.00 133.00 191.00\" width=\"133pt\" xmlns=\"http://www.w3.org/2000/svg\" xmlns:xlink=\"http://www.w3.org/1999/xlink\">\n",
       "<g class=\"graph\" id=\"graph0\" transform=\"scale(1 1) rotate(0) translate(4 187)\">\n",
       "<title>G</title>\n",
       "<polygon fill=\"white\" points=\"-4,4 -4,-187 129,-187 129,4 -4,4\" stroke=\"none\"/>\n",
       "<!-- 140495555605840 -->\n",
       "<g class=\"node\" id=\"node1\"><title>140495555605840</title>\n",
       "<polygon fill=\"none\" points=\"-7.10543e-15,-146.5 -7.10543e-15,-182.5 125,-182.5 125,-146.5 -7.10543e-15,-146.5\" stroke=\"black\"/>\n",
       "<text font-family=\"Times,serif\" font-size=\"14.00\" text-anchor=\"middle\" x=\"62.5\" y=\"-160.8\">input_1: InputLayer</text>\n",
       "</g>\n",
       "<!-- 140495555605784 -->\n",
       "<g class=\"node\" id=\"node2\"><title>140495555605784</title>\n",
       "<polygon fill=\"none\" points=\"13.5,-73.5 13.5,-109.5 111.5,-109.5 111.5,-73.5 13.5,-73.5\" stroke=\"black\"/>\n",
       "<text font-family=\"Times,serif\" font-size=\"14.00\" text-anchor=\"middle\" x=\"62.5\" y=\"-87.8\">lstm_1: LSTM</text>\n",
       "</g>\n",
       "<!-- 140495555605840&#45;&gt;140495555605784 -->\n",
       "<g class=\"edge\" id=\"edge1\"><title>140495555605840-&gt;140495555605784</title>\n",
       "<path d=\"M62.5,-146.313C62.5,-138.289 62.5,-128.547 62.5,-119.569\" fill=\"none\" stroke=\"black\"/>\n",
       "<polygon fill=\"black\" points=\"66.0001,-119.529 62.5,-109.529 59.0001,-119.529 66.0001,-119.529\" stroke=\"black\"/>\n",
       "</g>\n",
       "<!-- 140495555605672 -->\n",
       "<g class=\"node\" id=\"node3\"><title>140495555605672</title>\n",
       "<polygon fill=\"none\" points=\"13.5,-0.5 13.5,-36.5 111.5,-36.5 111.5,-0.5 13.5,-0.5\" stroke=\"black\"/>\n",
       "<text font-family=\"Times,serif\" font-size=\"14.00\" text-anchor=\"middle\" x=\"62.5\" y=\"-14.8\">lstm_2: LSTM</text>\n",
       "</g>\n",
       "<!-- 140495555605784&#45;&gt;140495555605672 -->\n",
       "<g class=\"edge\" id=\"edge2\"><title>140495555605784-&gt;140495555605672</title>\n",
       "<path d=\"M62.5,-73.3129C62.5,-65.2895 62.5,-55.5475 62.5,-46.5691\" fill=\"none\" stroke=\"black\"/>\n",
       "<polygon fill=\"black\" points=\"66.0001,-46.5288 62.5,-36.5288 59.0001,-46.5289 66.0001,-46.5288\" stroke=\"black\"/>\n",
       "</g>\n",
       "</g>\n",
       "</svg>"
      ],
      "text/plain": [
       "<IPython.core.display.SVG object>"
      ]
     },
     "execution_count": 4,
     "metadata": {},
     "output_type": "execute_result"
    }
   ],
   "source": [
    "SVG(model_to_dot(model1).create(prog='dot', format='svg'))\n"
   ]
  },
  {
   "cell_type": "code",
   "execution_count": 20,
   "metadata": {
    "collapsed": false
   },
   "outputs": [],
   "source": [
    "W1=model1.get_weights()"
   ]
  },
  {
   "cell_type": "markdown",
   "metadata": {
    "collapsed": false
   },
   "source": [
    "## case 2, T inputs"
   ]
  },
  {
   "cell_type": "code",
   "execution_count": 21,
   "metadata": {
    "collapsed": false
   },
   "outputs": [
    {
     "name": "stdout",
     "output_type": "stream",
     "text": [
      "Tensor(\"lstm_4/while/Exit_3:0\", shape=(?, 2), dtype=float32)\n",
      "Tensor(\"lstm_4_1/while/Exit_3:0\", shape=(?, 2), dtype=float32)\n",
      "Tensor(\"lstm_4_2/while/Exit_3:0\", shape=(?, 2), dtype=float32)\n",
      "Tensor(\"lstm_4_3/while/Exit_3:0\", shape=(?, 2), dtype=float32)\n",
      "__________________________________________________________________________________________________\n",
      "Layer (type)                    Output Shape         Param #     Connected to                     \n",
      "==================================================================================================\n",
      "input_6 (InputLayer)            (None, 1, 50)        0                                            \n",
      "__________________________________________________________________________________________________\n",
      "a0 (InputLayer)                 (None, 2)            0                                            \n",
      "__________________________________________________________________________________________________\n",
      "c0 (InputLayer)                 (None, 2)            0                                            \n",
      "__________________________________________________________________________________________________\n",
      "lstm_4 (LSTM)                   [(None, 1, 2), (None 424         input_6[0][0]                    \n",
      "                                                                 a0[0][0]                         \n",
      "                                                                 c0[0][0]                         \n",
      "                                                                 input_7[0][0]                    \n",
      "                                                                 lstm_4[0][1]                     \n",
      "                                                                 lstm_4[0][2]                     \n",
      "                                                                 input_8[0][0]                    \n",
      "                                                                 lstm_4[1][1]                     \n",
      "                                                                 lstm_4[1][2]                     \n",
      "                                                                 input_9[0][0]                    \n",
      "                                                                 lstm_4[2][1]                     \n",
      "                                                                 lstm_4[2][2]                     \n",
      "__________________________________________________________________________________________________\n",
      "input_7 (InputLayer)            (None, 1, 50)        0                                            \n",
      "__________________________________________________________________________________________________\n",
      "input_8 (InputLayer)            (None, 1, 50)        0                                            \n",
      "__________________________________________________________________________________________________\n",
      "input_9 (InputLayer)            (None, 1, 50)        0                                            \n",
      "==================================================================================================\n",
      "Total params: 424\n",
      "Trainable params: 424\n",
      "Non-trainable params: 0\n",
      "__________________________________________________________________________________________________\n"
     ]
    },
    {
     "data": {
      "image/svg+xml": [
       "<svg height=\"118pt\" viewBox=\"0.00 0.00 792.00 118.00\" width=\"792pt\" xmlns=\"http://www.w3.org/2000/svg\" xmlns:xlink=\"http://www.w3.org/1999/xlink\">\n",
       "<g class=\"graph\" id=\"graph0\" transform=\"scale(1 1) rotate(0) translate(4 114)\">\n",
       "<title>G</title>\n",
       "<polygon fill=\"white\" points=\"-4,4 -4,-114 788,-114 788,4 -4,4\" stroke=\"none\"/>\n",
       "<!-- 140495499514096 -->\n",
       "<g class=\"node\" id=\"node1\"><title>140495499514096</title>\n",
       "<polygon fill=\"none\" points=\"0,-73.5 0,-109.5 125,-109.5 125,-73.5 0,-73.5\" stroke=\"black\"/>\n",
       "<text font-family=\"Times,serif\" font-size=\"14.00\" text-anchor=\"middle\" x=\"62.5\" y=\"-87.8\">input_6: InputLayer</text>\n",
       "</g>\n",
       "<!-- 140495499517344 -->\n",
       "<g class=\"node\" id=\"node4\"><title>140495499517344</title>\n",
       "<polygon fill=\"none\" points=\"321.5,-0.5 321.5,-36.5 419.5,-36.5 419.5,-0.5 321.5,-0.5\" stroke=\"black\"/>\n",
       "<text font-family=\"Times,serif\" font-size=\"14.00\" text-anchor=\"middle\" x=\"370.5\" y=\"-14.8\">lstm_4: LSTM</text>\n",
       "</g>\n",
       "<!-- 140495499514096&#45;&gt;140495499517344 -->\n",
       "<g class=\"edge\" id=\"edge1\"><title>140495499514096-&gt;140495499517344</title>\n",
       "<path d=\"M125.204,-74.974C128.006,-74.3024 130.782,-73.6417 133.5,-73 194.056,-58.7037 263.513,-43.12 311.508,-32.4791\" fill=\"none\" stroke=\"black\"/>\n",
       "<polygon fill=\"black\" points=\"312.407,-35.865 321.414,-30.2857 310.893,-29.0306 312.407,-35.865\" stroke=\"black\"/>\n",
       "</g>\n",
       "<!-- 140495499517400 -->\n",
       "<g class=\"node\" id=\"node2\"><title>140495499517400</title>\n",
       "<polygon fill=\"none\" points=\"143,-73.5 143,-109.5 240,-109.5 240,-73.5 143,-73.5\" stroke=\"black\"/>\n",
       "<text font-family=\"Times,serif\" font-size=\"14.00\" text-anchor=\"middle\" x=\"191.5\" y=\"-87.8\">a0: InputLayer</text>\n",
       "</g>\n",
       "<!-- 140495499517400&#45;&gt;140495499517344 -->\n",
       "<g class=\"edge\" id=\"edge2\"><title>140495499517400-&gt;140495499517344</title>\n",
       "<path d=\"M234.375,-73.4937C259.431,-63.5555 291.25,-50.9343 317.824,-40.3939\" fill=\"none\" stroke=\"black\"/>\n",
       "<polygon fill=\"black\" points=\"319.35,-43.5541 327.355,-36.6136 316.769,-37.0473 319.35,-43.5541\" stroke=\"black\"/>\n",
       "</g>\n",
       "<!-- 140495499516280 -->\n",
       "<g class=\"node\" id=\"node3\"><title>140495499516280</title>\n",
       "<polygon fill=\"none\" points=\"258,-73.5 258,-109.5 355,-109.5 355,-73.5 258,-73.5\" stroke=\"black\"/>\n",
       "<text font-family=\"Times,serif\" font-size=\"14.00\" text-anchor=\"middle\" x=\"306.5\" y=\"-87.8\">c0: InputLayer</text>\n",
       "</g>\n",
       "<!-- 140495499516280&#45;&gt;140495499517344 -->\n",
       "<g class=\"edge\" id=\"edge3\"><title>140495499516280-&gt;140495499517344</title>\n",
       "<path d=\"M321.993,-73.3129C329.932,-64.5046 339.739,-53.625 348.453,-43.9584\" fill=\"none\" stroke=\"black\"/>\n",
       "<polygon fill=\"black\" points=\"351.054,-46.3 355.15,-36.5288 345.855,-41.6132 351.054,-46.3\" stroke=\"black\"/>\n",
       "</g>\n",
       "<!-- 140495499517344&#45;&gt;140495499517344 -->\n",
       "<g class=\"edge\" id=\"edge5\"><title>140495499517344-&gt;140495499517344</title>\n",
       "<path d=\"M419.58,-20.6774C429.986,-20.4563 437.5,-19.7305 437.5,-18.5 437.5,-17.731 434.565,-17.1591 429.823,-16.7843\" fill=\"none\" stroke=\"black\"/>\n",
       "<polygon fill=\"black\" points=\"429.728,-13.2766 419.58,-16.3226 429.413,-20.2695 429.728,-13.2766\" stroke=\"black\"/>\n",
       "</g>\n",
       "<!-- 140495499517344&#45;&gt;140495499517344 -->\n",
       "<g class=\"edge\" id=\"edge6\"><title>140495499517344-&gt;140495499517344</title>\n",
       "<path d=\"M419.841,-22.9778C439.271,-23.2035 455.5,-21.7109 455.5,-18.5 455.5,-15.866 444.579,-14.3884 429.929,-14.067\" fill=\"none\" stroke=\"black\"/>\n",
       "<polygon fill=\"black\" points=\"429.856,-10.5667 419.841,-14.0222 429.825,-17.5667 429.856,-10.5667\" stroke=\"black\"/>\n",
       "</g>\n",
       "<!-- 140495499517344&#45;&gt;140495499517344 -->\n",
       "<g class=\"edge\" id=\"edge8\"><title>140495499517344-&gt;140495499517344</title>\n",
       "<path d=\"M419.512,-24.8915C447.509,-26.1676 473.5,-24.0371 473.5,-18.5 473.5,-13.6334 453.422,-11.3983 429.552,-11.7948\" fill=\"none\" stroke=\"black\"/>\n",
       "<polygon fill=\"black\" points=\"429.398,-8.29781 419.512,-12.1085 429.617,-15.2944 429.398,-8.29781\" stroke=\"black\"/>\n",
       "</g>\n",
       "<!-- 140495499517344&#45;&gt;140495499517344 -->\n",
       "<g class=\"edge\" id=\"edge9\"><title>140495499517344-&gt;140495499517344</title>\n",
       "<path d=\"M419.586,-26.4843C455.508,-29.1771 491.5,-26.5156 491.5,-18.5 491.5,-11.2358 461.94,-8.36901 429.661,-9.89953\" fill=\"none\" stroke=\"black\"/>\n",
       "<polygon fill=\"black\" points=\"429.354,-6.41169 419.586,-10.5157 429.781,-13.3986 429.354,-6.41169\" stroke=\"black\"/>\n",
       "</g>\n",
       "<!-- 140495499517344&#45;&gt;140495499517344 -->\n",
       "<g class=\"edge\" id=\"edge11\"><title>140495499517344-&gt;140495499517344</title>\n",
       "<path d=\"M419.658,-27.8212C463.177,-32.2125 509.5,-29.1055 509.5,-18.5 509.5,-8.70237 469.965,-5.30431 429.63,-8.30582\" fill=\"none\" stroke=\"black\"/>\n",
       "<polygon fill=\"black\" points=\"429.315,-4.81993 419.658,-9.17879 429.925,-11.7933 429.315,-4.81993\" stroke=\"black\"/>\n",
       "</g>\n",
       "<!-- 140495499517344&#45;&gt;140495499517344 -->\n",
       "<g class=\"edge\" id=\"edge12\"><title>140495499517344-&gt;140495499517344</title>\n",
       "<path d=\"M419.529,-28.934C470.45,-35.2671 527.5,-31.7891 527.5,-18.5 527.5,-6.09341 477.776,-2.23813 429.736,-6.93414\" fill=\"none\" stroke=\"black\"/>\n",
       "<polygon fill=\"black\" points=\"429.083,-3.48509 419.529,-8.06601 429.854,-10.4424 429.083,-3.48509\" stroke=\"black\"/>\n",
       "</g>\n",
       "<!-- 140495555945696 -->\n",
       "<g class=\"node\" id=\"node5\"><title>140495555945696</title>\n",
       "<polygon fill=\"none\" points=\"373,-73.5 373,-109.5 498,-109.5 498,-73.5 373,-73.5\" stroke=\"black\"/>\n",
       "<text font-family=\"Times,serif\" font-size=\"14.00\" text-anchor=\"middle\" x=\"435.5\" y=\"-87.8\">input_7: InputLayer</text>\n",
       "</g>\n",
       "<!-- 140495555945696&#45;&gt;140495499517344 -->\n",
       "<g class=\"edge\" id=\"edge4\"><title>140495555945696-&gt;140495499517344</title>\n",
       "<path d=\"M419.765,-73.3129C411.701,-64.5046 401.741,-53.625 392.892,-43.9584\" fill=\"none\" stroke=\"black\"/>\n",
       "<polygon fill=\"black\" points=\"395.424,-41.5413 386.09,-36.5288 390.261,-46.2681 395.424,-41.5413\" stroke=\"black\"/>\n",
       "</g>\n",
       "<!-- 140495499914880 -->\n",
       "<g class=\"node\" id=\"node6\"><title>140495499914880</title>\n",
       "<polygon fill=\"none\" points=\"516,-73.5 516,-109.5 641,-109.5 641,-73.5 516,-73.5\" stroke=\"black\"/>\n",
       "<text font-family=\"Times,serif\" font-size=\"14.00\" text-anchor=\"middle\" x=\"578.5\" y=\"-87.8\">input_8: InputLayer</text>\n",
       "</g>\n",
       "<!-- 140495499914880&#45;&gt;140495499517344 -->\n",
       "<g class=\"edge\" id=\"edge7\"><title>140495499914880-&gt;140495499517344</title>\n",
       "<path d=\"M528.679,-73.4937C498.726,-63.2696 460.455,-50.206 429.061,-39.4896\" fill=\"none\" stroke=\"black\"/>\n",
       "<polygon fill=\"black\" points=\"430.15,-36.163 419.555,-36.2449 427.889,-42.7877 430.15,-36.163\" stroke=\"black\"/>\n",
       "</g>\n",
       "<!-- 140495057467376 -->\n",
       "<g class=\"node\" id=\"node7\"><title>140495057467376</title>\n",
       "<polygon fill=\"none\" points=\"659,-73.5 659,-109.5 784,-109.5 784,-73.5 659,-73.5\" stroke=\"black\"/>\n",
       "<text font-family=\"Times,serif\" font-size=\"14.00\" text-anchor=\"middle\" x=\"721.5\" y=\"-87.8\">input_9: InputLayer</text>\n",
       "</g>\n",
       "<!-- 140495057467376&#45;&gt;140495499517344 -->\n",
       "<g class=\"edge\" id=\"edge10\"><title>140495057467376-&gt;140495499517344</title>\n",
       "<path d=\"M658.822,-74.8606C656.012,-74.2197 653.229,-73.5965 650.5,-73 574.559,-56.3982 486.401,-40.0287 429.605,-29.8561\" fill=\"none\" stroke=\"black\"/>\n",
       "<polygon fill=\"black\" points=\"430.182,-26.4039 419.723,-28.092 428.952,-33.295 430.182,-26.4039\" stroke=\"black\"/>\n",
       "</g>\n",
       "</g>\n",
       "</svg>"
      ],
      "text/plain": [
       "<IPython.core.display.SVG object>"
      ]
     },
     "execution_count": 21,
     "metadata": {},
     "output_type": "execute_result"
    }
   ],
   "source": [
    "np.random.seed(1)\n",
    "set_random_seed(1)\n",
    "\n",
    "ilayers=[]\n",
    "os=[]\n",
    "lstm_layer=LSTM(n_a,return_state=True,return_sequences=True)\n",
    "a0 = Input(shape=(n_a,), name='a0')\n",
    "c0 = Input(shape=(n_a,), name='c0')\n",
    "a = a0\n",
    "c = c0\n",
    "for i in range(T):\n",
    "    I=Input(shape=(1,d))\n",
    "    ilayers.append(I)\n",
    "    a,a,c=lstm_layer(I,initial_state=[a,c])\n",
    "    os.append(a)\n",
    "    print(a)\n",
    "model2=Model(inputs=ilayers+[a0,c0],outputs=os)\n",
    "model2.summary()\n",
    "SVG(model_to_dot(model2).create(prog='dot', format='svg'))"
   ]
  },
  {
   "cell_type": "code",
   "execution_count": 23,
   "metadata": {
    "collapsed": false
   },
   "outputs": [
    {
     "name": "stdout",
     "output_type": "stream",
     "text": [
      "0\n",
      "1\n",
      "2\n"
     ]
    }
   ],
   "source": [
    "W2=model2.get_weights()\n",
    "for i,j in enumerate(W2):\n",
    "    print(i)\n",
    "    assert W1[i].all()==W2[i].all()"
   ]
  },
  {
   "cell_type": "code",
   "execution_count": null,
   "metadata": {
    "collapsed": false
   },
   "outputs": [],
   "source": []
  },
  {
   "cell_type": "code",
   "execution_count": 24,
   "metadata": {
    "collapsed": false
   },
   "outputs": [
    {
     "data": {
      "text/plain": [
       "TensorShape([Dimension(None), Dimension(2)])"
      ]
     },
     "execution_count": 24,
     "metadata": {},
     "output_type": "execute_result"
    }
   ],
   "source": [
    "a0.shape"
   ]
  },
  {
   "cell_type": "markdown",
   "metadata": {},
   "source": [
    "### converting Input to a new shape for model2, expect differently shape output as well"
   ]
  },
  {
   "cell_type": "code",
   "execution_count": 25,
   "metadata": {
    "collapsed": false
   },
   "outputs": [
    {
     "data": {
      "text/plain": [
       "[array([[-0.22238015, -0.07705454],\n",
       "        [-0.20868695, -0.20530409],\n",
       "        [-0.12552582, -0.15437095]], dtype=float32),\n",
       " array([[-0.32714635, -0.17777373],\n",
       "        [-0.32979804, -0.14818689],\n",
       "        [-0.31344017, -0.26297227]], dtype=float32),\n",
       " array([[-0.40802687, -0.22108075],\n",
       "        [-0.51170135, -0.22082141],\n",
       "        [-0.41150817, -0.19334342]], dtype=float32),\n",
       " array([[-0.31120545, -0.25554833],\n",
       "        [-0.40107614, -0.16624847],\n",
       "        [-0.46445066, -0.22514418]], dtype=float32)]"
      ]
     },
     "execution_count": 25,
     "metadata": {},
     "output_type": "execute_result"
    }
   ],
   "source": [
    "xinputs=[x[:,i,:].reshape(batch_size,1,d) for i in range(T)]\n",
    "a0=np.zeros((batch_size, n_a))\n",
    "c0=np.zeros((batch_size, n_a))\n",
    "model2.predict(xinputs +  [a0,c0])########## we get same output"
   ]
  },
  {
   "cell_type": "code",
   "execution_count": null,
   "metadata": {
    "collapsed": false
   },
   "outputs": [],
   "source": []
  },
  {
   "cell_type": "code",
   "execution_count": 26,
   "metadata": {
    "collapsed": false
   },
   "outputs": [
    {
     "data": {
      "text/plain": [
       "array([[[0.03153282, 0.02195749],\n",
       "        [0.06709555, 0.04790732],\n",
       "        [0.10086724, 0.06961383],\n",
       "        [0.11506429, 0.08126175]],\n",
       "\n",
       "       [[0.03432832, 0.0336638 ],\n",
       "        [0.06833646, 0.05452058],\n",
       "        [0.11184714, 0.07736374],\n",
       "        [0.13139614, 0.08437069]],\n",
       "\n",
       "       [[0.02254318, 0.02476908],\n",
       "        [0.06191476, 0.05725384],\n",
       "        [0.09719618, 0.07639652],\n",
       "        [0.12731677, 0.08975205]]], dtype=float32)"
      ]
     },
     "execution_count": 26,
     "metadata": {},
     "output_type": "execute_result"
    }
   ],
   "source": [
    "model1.predict(x)"
   ]
  },
  {
   "cell_type": "markdown",
   "metadata": {
    "collapsed": false
   },
   "source": [
    "## Case 3, 1 Input, but Lambda splitting"
   ]
  },
  {
   "cell_type": "code",
   "execution_count": 27,
   "metadata": {
    "collapsed": false
   },
   "outputs": [
    {
     "name": "stdout",
     "output_type": "stream",
     "text": [
      "__________________________________________________________________________________________________\n",
      "Layer (type)                    Output Shape         Param #     Connected to                     \n",
      "==================================================================================================\n",
      "input_13 (InputLayer)           (None, 16, 2500, 77) 0                                            \n",
      "__________________________________________________________________________________________________\n",
      "lambda_1 (Lambda)               (None, 50)           0           input_13[0][0]                   \n",
      "__________________________________________________________________________________________________\n",
      "reshape_1 (Reshape)             (None, 1, 50)        0           lambda_1[0][0]                   \n",
      "                                                                 lambda_2[0][0]                   \n",
      "                                                                 lambda_3[0][0]                   \n",
      "                                                                 lambda_4[0][0]                   \n",
      "__________________________________________________________________________________________________\n",
      "input_11 (InputLayer)           (None, 2)            0                                            \n",
      "__________________________________________________________________________________________________\n",
      "input_12 (InputLayer)           (None, 2)            0                                            \n",
      "__________________________________________________________________________________________________\n",
      "lambda_2 (Lambda)               (None, 50)           0           input_13[0][0]                   \n",
      "__________________________________________________________________________________________________\n",
      "lstm_5 (LSTM)                   [(None, 2), (None, 2 424         reshape_1[0][0]                  \n",
      "                                                                 input_11[0][0]                   \n",
      "                                                                 input_12[0][0]                   \n",
      "                                                                 reshape_1[1][0]                  \n",
      "                                                                 lstm_5[0][0]                     \n",
      "                                                                 lstm_5[0][2]                     \n",
      "                                                                 reshape_1[2][0]                  \n",
      "                                                                 lstm_5[1][0]                     \n",
      "                                                                 lstm_5[1][2]                     \n",
      "                                                                 reshape_1[3][0]                  \n",
      "                                                                 lstm_5[2][0]                     \n",
      "                                                                 lstm_5[2][2]                     \n",
      "__________________________________________________________________________________________________\n",
      "lambda_3 (Lambda)               (None, 50)           0           input_13[0][0]                   \n",
      "__________________________________________________________________________________________________\n",
      "lambda_4 (Lambda)               (None, 50)           0           input_13[0][0]                   \n",
      "==================================================================================================\n",
      "Total params: 424\n",
      "Trainable params: 424\n",
      "Non-trainable params: 0\n",
      "__________________________________________________________________________________________________\n"
     ]
    },
    {
     "data": {
      "image/svg+xml": [
       "<svg height=\"264pt\" viewBox=\"0.00 0.00 643.50 264.00\" width=\"644pt\" xmlns=\"http://www.w3.org/2000/svg\" xmlns:xlink=\"http://www.w3.org/1999/xlink\">\n",
       "<g class=\"graph\" id=\"graph0\" transform=\"scale(1 1) rotate(0) translate(4 260)\">\n",
       "<title>G</title>\n",
       "<polygon fill=\"white\" points=\"-4,4 -4,-260 639.5,-260 639.5,4 -4,4\" stroke=\"none\"/>\n",
       "<!-- 140495050200176 -->\n",
       "<g class=\"node\" id=\"node1\"><title>140495050200176</title>\n",
       "<polygon fill=\"none\" points=\"206.5,-219.5 206.5,-255.5 338.5,-255.5 338.5,-219.5 206.5,-219.5\" stroke=\"black\"/>\n",
       "<text font-family=\"Times,serif\" font-size=\"14.00\" text-anchor=\"middle\" x=\"272.5\" y=\"-233.8\">input_13: InputLayer</text>\n",
       "</g>\n",
       "<!-- 140495050227384 -->\n",
       "<g class=\"node\" id=\"node2\"><title>140495050227384</title>\n",
       "<polygon fill=\"none\" points=\"0,-146.5 0,-182.5 123,-182.5 123,-146.5 0,-146.5\" stroke=\"black\"/>\n",
       "<text font-family=\"Times,serif\" font-size=\"14.00\" text-anchor=\"middle\" x=\"61.5\" y=\"-160.8\">lambda_1: Lambda</text>\n",
       "</g>\n",
       "<!-- 140495050200176&#45;&gt;140495050227384 -->\n",
       "<g class=\"edge\" id=\"edge1\"><title>140495050200176-&gt;140495050227384</title>\n",
       "<path d=\"M221.96,-219.494C191.907,-209.381 153.599,-196.491 121.95,-185.841\" fill=\"none\" stroke=\"black\"/>\n",
       "<polygon fill=\"black\" points=\"122.953,-182.486 112.359,-182.614 120.72,-189.12 122.953,-182.486\" stroke=\"black\"/>\n",
       "</g>\n",
       "<!-- 140495050180816 -->\n",
       "<g class=\"node\" id=\"node6\"><title>140495050180816</title>\n",
       "<polygon fill=\"none\" points=\"141,-146.5 141,-182.5 264,-182.5 264,-146.5 141,-146.5\" stroke=\"black\"/>\n",
       "<text font-family=\"Times,serif\" font-size=\"14.00\" text-anchor=\"middle\" x=\"202.5\" y=\"-160.8\">lambda_2: Lambda</text>\n",
       "</g>\n",
       "<!-- 140495050200176&#45;&gt;140495050180816 -->\n",
       "<g class=\"edge\" id=\"edge6\"><title>140495050200176-&gt;140495050180816</title>\n",
       "<path d=\"M255.555,-219.313C246.785,-210.417 235.932,-199.409 226.331,-189.672\" fill=\"none\" stroke=\"black\"/>\n",
       "<polygon fill=\"black\" points=\"228.802,-187.193 219.289,-182.529 223.817,-192.107 228.802,-187.193\" stroke=\"black\"/>\n",
       "</g>\n",
       "<!-- 140495050265824 -->\n",
       "<g class=\"node\" id=\"node8\"><title>140495050265824</title>\n",
       "<polygon fill=\"none\" points=\"282,-146.5 282,-182.5 405,-182.5 405,-146.5 282,-146.5\" stroke=\"black\"/>\n",
       "<text font-family=\"Times,serif\" font-size=\"14.00\" text-anchor=\"middle\" x=\"343.5\" y=\"-160.8\">lambda_3: Lambda</text>\n",
       "</g>\n",
       "<!-- 140495050200176&#45;&gt;140495050265824 -->\n",
       "<g class=\"edge\" id=\"edge19\"><title>140495050200176-&gt;140495050265824</title>\n",
       "<path d=\"M289.687,-219.313C298.583,-210.417 309.591,-199.409 319.328,-189.672\" fill=\"none\" stroke=\"black\"/>\n",
       "<polygon fill=\"black\" points=\"321.875,-192.075 326.471,-182.529 316.925,-187.125 321.875,-192.075\" stroke=\"black\"/>\n",
       "</g>\n",
       "<!-- 140495047947264 -->\n",
       "<g class=\"node\" id=\"node9\"><title>140495047947264</title>\n",
       "<polygon fill=\"none\" points=\"423,-146.5 423,-182.5 546,-182.5 546,-146.5 423,-146.5\" stroke=\"black\"/>\n",
       "<text font-family=\"Times,serif\" font-size=\"14.00\" text-anchor=\"middle\" x=\"484.5\" y=\"-160.8\">lambda_4: Lambda</text>\n",
       "</g>\n",
       "<!-- 140495050200176&#45;&gt;140495047947264 -->\n",
       "<g class=\"edge\" id=\"edge20\"><title>140495050200176-&gt;140495047947264</title>\n",
       "<path d=\"M323.279,-219.494C353.475,-209.381 391.965,-196.491 423.763,-185.841\" fill=\"none\" stroke=\"black\"/>\n",
       "<polygon fill=\"black\" points=\"425.029,-189.108 433.4,-182.614 422.806,-182.471 425.029,-189.108\" stroke=\"black\"/>\n",
       "</g>\n",
       "<!-- 140495050200568 -->\n",
       "<g class=\"node\" id=\"node3\"><title>140495050200568</title>\n",
       "<polygon fill=\"none\" points=\"210,-73.5 210,-109.5 335,-109.5 335,-73.5 210,-73.5\" stroke=\"black\"/>\n",
       "<text font-family=\"Times,serif\" font-size=\"14.00\" text-anchor=\"middle\" x=\"272.5\" y=\"-87.8\">reshape_1: Reshape</text>\n",
       "</g>\n",
       "<!-- 140495050227384&#45;&gt;140495050200568 -->\n",
       "<g class=\"edge\" id=\"edge2\"><title>140495050227384-&gt;140495050200568</title>\n",
       "<path d=\"M112.04,-146.494C142.093,-136.381 180.401,-123.491 212.05,-112.841\" fill=\"none\" stroke=\"black\"/>\n",
       "<polygon fill=\"black\" points=\"213.28,-116.12 221.641,-109.614 211.047,-109.486 213.28,-116.12\" stroke=\"black\"/>\n",
       "</g>\n",
       "<!-- 140495050199504 -->\n",
       "<g class=\"node\" id=\"node7\"><title>140495050199504</title>\n",
       "<polygon fill=\"none\" points=\"370.5,-0.5 370.5,-36.5 468.5,-36.5 468.5,-0.5 370.5,-0.5\" stroke=\"black\"/>\n",
       "<text font-family=\"Times,serif\" font-size=\"14.00\" text-anchor=\"middle\" x=\"419.5\" y=\"-14.8\">lstm_5: LSTM</text>\n",
       "</g>\n",
       "<!-- 140495050200568&#45;&gt;140495050199504 -->\n",
       "<g class=\"edge\" id=\"edge7\"><title>140495050200568-&gt;140495050199504</title>\n",
       "<path d=\"M307.71,-73.4937C327.835,-63.7734 353.274,-51.4866 374.799,-41.0903\" fill=\"none\" stroke=\"black\"/>\n",
       "<polygon fill=\"black\" points=\"376.585,-44.1145 384.068,-36.6136 373.541,-37.8112 376.585,-44.1145\" stroke=\"black\"/>\n",
       "</g>\n",
       "<!-- 140495050201744 -->\n",
       "<g class=\"node\" id=\"node4\"><title>140495050201744</title>\n",
       "<polygon fill=\"none\" points=\"353.5,-73.5 353.5,-109.5 485.5,-109.5 485.5,-73.5 353.5,-73.5\" stroke=\"black\"/>\n",
       "<text font-family=\"Times,serif\" font-size=\"14.00\" text-anchor=\"middle\" x=\"419.5\" y=\"-87.8\">input_11: InputLayer</text>\n",
       "</g>\n",
       "<!-- 140495050201744&#45;&gt;140495050199504 -->\n",
       "<g class=\"edge\" id=\"edge8\"><title>140495050201744-&gt;140495050199504</title>\n",
       "<path d=\"M419.5,-73.3129C419.5,-65.2895 419.5,-55.5475 419.5,-46.5691\" fill=\"none\" stroke=\"black\"/>\n",
       "<polygon fill=\"black\" points=\"423,-46.5288 419.5,-36.5288 416,-46.5289 423,-46.5288\" stroke=\"black\"/>\n",
       "</g>\n",
       "<!-- 140495050201800 -->\n",
       "<g class=\"node\" id=\"node5\"><title>140495050201800</title>\n",
       "<polygon fill=\"none\" points=\"503.5,-73.5 503.5,-109.5 635.5,-109.5 635.5,-73.5 503.5,-73.5\" stroke=\"black\"/>\n",
       "<text font-family=\"Times,serif\" font-size=\"14.00\" text-anchor=\"middle\" x=\"569.5\" y=\"-87.8\">input_12: InputLayer</text>\n",
       "</g>\n",
       "<!-- 140495050201800&#45;&gt;140495050199504 -->\n",
       "<g class=\"edge\" id=\"edge9\"><title>140495050201800-&gt;140495050199504</title>\n",
       "<path d=\"M533.571,-73.4937C512.943,-63.7298 486.844,-51.3763 464.818,-40.9506\" fill=\"none\" stroke=\"black\"/>\n",
       "<polygon fill=\"black\" points=\"466.191,-37.7284 455.655,-36.6136 463.197,-44.0554 466.191,-37.7284\" stroke=\"black\"/>\n",
       "</g>\n",
       "<!-- 140495050180816&#45;&gt;140495050200568 -->\n",
       "<g class=\"edge\" id=\"edge3\"><title>140495050180816-&gt;140495050200568</title>\n",
       "<path d=\"M219.445,-146.313C228.215,-137.417 239.068,-126.409 248.669,-116.672\" fill=\"none\" stroke=\"black\"/>\n",
       "<polygon fill=\"black\" points=\"251.183,-119.107 255.711,-109.529 246.198,-114.193 251.183,-119.107\" stroke=\"black\"/>\n",
       "</g>\n",
       "<!-- 140495050199504&#45;&gt;140495050199504 -->\n",
       "<g class=\"edge\" id=\"edge11\"><title>140495050199504-&gt;140495050199504</title>\n",
       "<path d=\"M468.58,-20.6774C478.986,-20.4563 486.5,-19.7305 486.5,-18.5 486.5,-17.731 483.565,-17.1591 478.823,-16.7843\" fill=\"none\" stroke=\"black\"/>\n",
       "<polygon fill=\"black\" points=\"478.728,-13.2766 468.58,-16.3226 478.413,-20.2695 478.728,-13.2766\" stroke=\"black\"/>\n",
       "</g>\n",
       "<!-- 140495050199504&#45;&gt;140495050199504 -->\n",
       "<g class=\"edge\" id=\"edge12\"><title>140495050199504-&gt;140495050199504</title>\n",
       "<path d=\"M468.841,-22.9778C488.271,-23.2035 504.5,-21.7109 504.5,-18.5 504.5,-15.866 493.579,-14.3884 478.929,-14.067\" fill=\"none\" stroke=\"black\"/>\n",
       "<polygon fill=\"black\" points=\"478.856,-10.5667 468.841,-14.0222 478.825,-17.5667 478.856,-10.5667\" stroke=\"black\"/>\n",
       "</g>\n",
       "<!-- 140495050199504&#45;&gt;140495050199504 -->\n",
       "<g class=\"edge\" id=\"edge14\"><title>140495050199504-&gt;140495050199504</title>\n",
       "<path d=\"M468.512,-24.8915C496.509,-26.1676 522.5,-24.0371 522.5,-18.5 522.5,-13.6334 502.422,-11.3983 478.552,-11.7948\" fill=\"none\" stroke=\"black\"/>\n",
       "<polygon fill=\"black\" points=\"478.398,-8.29781 468.512,-12.1085 478.617,-15.2944 478.398,-8.29781\" stroke=\"black\"/>\n",
       "</g>\n",
       "<!-- 140495050199504&#45;&gt;140495050199504 -->\n",
       "<g class=\"edge\" id=\"edge15\"><title>140495050199504-&gt;140495050199504</title>\n",
       "<path d=\"M468.586,-26.4843C504.508,-29.1771 540.5,-26.5156 540.5,-18.5 540.5,-11.2358 510.94,-8.36901 478.661,-9.89953\" fill=\"none\" stroke=\"black\"/>\n",
       "<polygon fill=\"black\" points=\"478.354,-6.41169 468.586,-10.5157 478.781,-13.3986 478.354,-6.41169\" stroke=\"black\"/>\n",
       "</g>\n",
       "<!-- 140495050199504&#45;&gt;140495050199504 -->\n",
       "<g class=\"edge\" id=\"edge17\"><title>140495050199504-&gt;140495050199504</title>\n",
       "<path d=\"M468.658,-27.8212C512.177,-32.2125 558.5,-29.1055 558.5,-18.5 558.5,-8.70237 518.965,-5.30431 478.63,-8.30582\" fill=\"none\" stroke=\"black\"/>\n",
       "<polygon fill=\"black\" points=\"478.315,-4.81993 468.658,-9.17879 478.925,-11.7933 478.315,-4.81993\" stroke=\"black\"/>\n",
       "</g>\n",
       "<!-- 140495050199504&#45;&gt;140495050199504 -->\n",
       "<g class=\"edge\" id=\"edge18\"><title>140495050199504-&gt;140495050199504</title>\n",
       "<path d=\"M468.529,-28.934C519.45,-35.2671 576.5,-31.7891 576.5,-18.5 576.5,-6.09341 526.776,-2.23813 478.736,-6.93414\" fill=\"none\" stroke=\"black\"/>\n",
       "<polygon fill=\"black\" points=\"478.083,-3.48509 468.529,-8.06601 478.854,-10.4424 478.083,-3.48509\" stroke=\"black\"/>\n",
       "</g>\n",
       "<!-- 140495050265824&#45;&gt;140495050200568 -->\n",
       "<g class=\"edge\" id=\"edge4\"><title>140495050265824-&gt;140495050200568</title>\n",
       "<path d=\"M326.313,-146.313C317.417,-137.417 306.409,-126.409 296.672,-116.672\" fill=\"none\" stroke=\"black\"/>\n",
       "<polygon fill=\"black\" points=\"299.075,-114.125 289.529,-109.529 294.125,-119.075 299.075,-114.125\" stroke=\"black\"/>\n",
       "</g>\n",
       "<!-- 140495047947264&#45;&gt;140495050200568 -->\n",
       "<g class=\"edge\" id=\"edge5\"><title>140495047947264-&gt;140495050200568</title>\n",
       "<path d=\"M433.721,-146.494C403.525,-136.381 365.035,-123.491 333.237,-112.841\" fill=\"none\" stroke=\"black\"/>\n",
       "<polygon fill=\"black\" points=\"334.194,-109.471 323.6,-109.614 331.971,-116.108 334.194,-109.471\" stroke=\"black\"/>\n",
       "</g>\n",
       "</g>\n",
       "</svg>"
      ],
      "text/plain": [
       "<IPython.core.display.SVG object>"
      ]
     },
     "execution_count": 27,
     "metadata": {},
     "output_type": "execute_result"
    }
   ],
   "source": [
    "np.random.seed(1)\n",
    "set_random_seed(1)\n",
    "\n",
    "I=Input(shape=(T,d))\n",
    "a0=Input(shape=(n_a,))\n",
    "c0=Input(shape=(n_a,))\n",
    "\n",
    "randomI=Input(shape=(T*T,d*d,77))\n",
    "\n",
    "lstm3=LSTM(n_a,return_state=True,return_sequences=False)\n",
    "a=a0\n",
    "c=c0\n",
    "\n",
    "reshapor = Reshape((1, d))\n",
    "otensors=[]\n",
    "for i in range(T):\n",
    "    it = Lambda(lambda doesnt_matter: I[:,i,:])(randomI)##NOTE looks like what randomI is doesnt matter, it takes value only from I[:,i,:]\n",
    "    #it=I[:,i,:]#, as I understand Slicing a tensor lacks properties of a tensor a \"layer\" outputs and hence wont work\n",
    "    it=reshapor(it)\n",
    "    a,_,c=lstm3(it,initial_state=[a,c])\n",
    "    otensors.append(a)\n",
    "model3=Model(inputs=[I,a0,c0,randomI],outputs=otensors)\n",
    "model3.summary()\n",
    "SVG(model_to_dot(model3).create(prog='dot', format='svg'))"
   ]
  },
  {
   "cell_type": "code",
   "execution_count": 28,
   "metadata": {
    "collapsed": false
   },
   "outputs": [
    {
     "data": {
      "text/plain": [
       "[array([[-0.22238015, -0.07705454],\n",
       "        [-0.20868695, -0.20530409],\n",
       "        [-0.12552582, -0.15437095]], dtype=float32),\n",
       " array([[-0.32714635, -0.17777373],\n",
       "        [-0.32979804, -0.14818689],\n",
       "        [-0.31344017, -0.26297227]], dtype=float32),\n",
       " array([[-0.40802687, -0.22108075],\n",
       "        [-0.51170135, -0.22082141],\n",
       "        [-0.41150817, -0.19334342]], dtype=float32),\n",
       " array([[-0.31120545, -0.25554833],\n",
       "        [-0.40107614, -0.16624847],\n",
       "        [-0.46445066, -0.22514418]], dtype=float32)]"
      ]
     },
     "execution_count": 28,
     "metadata": {},
     "output_type": "execute_result"
    }
   ],
   "source": [
    "a0=np.zeros((batch_size, n_a))\n",
    "c0=np.zeros((batch_size, n_a))\n",
    "ri=np.random.rand(batch_size,T*T,d*d,77)\n",
    "model3.predict([x,a0,c0,ri])#########same as before, but imporper shape"
   ]
  },
  {
   "cell_type": "code",
   "execution_count": 29,
   "metadata": {
    "collapsed": false
   },
   "outputs": [
    {
     "data": {
      "text/plain": [
       "(3, 4, 50)"
      ]
     },
     "execution_count": 29,
     "metadata": {},
     "output_type": "execute_result"
    }
   ],
   "source": [
    "[x,a0,c0][0].shape"
   ]
  },
  {
   "cell_type": "markdown",
   "metadata": {},
   "source": [
    "Please **NOTE** that going through model2 or model3 will return as a list of each time step output, as in a list of each element of shape \n",
    "``` \n",
    "        BATCH_SIZE x D , or T x BATCH_SIZE x D\n",
    "``` \n",
    "whereas model1 gives\n",
    "``` \n",
    "        BATCH_SIZE x T x D \n",
    "``` \n",
    "(same shape as Input)"
   ]
  },
  {
   "cell_type": "code",
   "execution_count": 30,
   "metadata": {
    "collapsed": false
   },
   "outputs": [
    {
     "data": {
      "text/plain": [
       "array([[[0.03153282, 0.02195749],\n",
       "        [0.06709555, 0.04790732],\n",
       "        [0.10086724, 0.06961383],\n",
       "        [0.11506429, 0.08126175]],\n",
       "\n",
       "       [[0.03432832, 0.0336638 ],\n",
       "        [0.06833646, 0.05452058],\n",
       "        [0.11184714, 0.07736374],\n",
       "        [0.13139614, 0.08437069]],\n",
       "\n",
       "       [[0.02254318, 0.02476908],\n",
       "        [0.06191476, 0.05725384],\n",
       "        [0.09719618, 0.07639652],\n",
       "        [0.12731677, 0.08975205]]], dtype=float32)"
      ]
     },
     "execution_count": 30,
     "metadata": {},
     "output_type": "execute_result"
    }
   ],
   "source": [
    "model1.predict(x)"
   ]
  },
  {
   "cell_type": "code",
   "execution_count": 31,
   "metadata": {
    "collapsed": false
   },
   "outputs": [
    {
     "data": {
      "text/plain": [
       "[array([[-0.22238015, -0.07705454],\n",
       "        [-0.20868695, -0.20530409],\n",
       "        [-0.12552582, -0.15437095]], dtype=float32),\n",
       " array([[-0.32714635, -0.17777373],\n",
       "        [-0.32979804, -0.14818689],\n",
       "        [-0.31344017, -0.26297227]], dtype=float32),\n",
       " array([[-0.40802687, -0.22108075],\n",
       "        [-0.51170135, -0.22082141],\n",
       "        [-0.41150817, -0.19334342]], dtype=float32),\n",
       " array([[-0.31120545, -0.25554833],\n",
       "        [-0.40107614, -0.16624847],\n",
       "        [-0.46445066, -0.22514418]], dtype=float32)]"
      ]
     },
     "execution_count": 31,
     "metadata": {},
     "output_type": "execute_result"
    }
   ],
   "source": [
    "model2.predict([x[:,i,:].reshape(x.shape[0],1,d) for i in range(T)]+[np.zeros((batch_size, n_a)),np.zeros((batch_size, n_a))])"
   ]
  },
  {
   "cell_type": "code",
   "execution_count": 32,
   "metadata": {
    "collapsed": false
   },
   "outputs": [],
   "source": [
    "##"
   ]
  },
  {
   "cell_type": "code",
   "execution_count": null,
   "metadata": {
    "collapsed": true
   },
   "outputs": [],
   "source": []
  }
 ],
 "metadata": {
  "anaconda-cloud": {},
  "kernelspec": {
   "display_name": "Python [Root]",
   "language": "python",
   "name": "Python [Root]"
  },
  "language_info": {
   "codemirror_mode": {
    "name": "ipython",
    "version": 3
   },
   "file_extension": ".py",
   "mimetype": "text/x-python",
   "name": "python",
   "nbconvert_exporter": "python",
   "pygments_lexer": "ipython3",
   "version": "3.5.1"
  }
 },
 "nbformat": 4,
 "nbformat_minor": 0
}
